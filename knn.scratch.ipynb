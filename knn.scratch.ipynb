{
 "cells": [
  {
   "cell_type": "code",
   "execution_count": 2,
   "metadata": {},
   "outputs": [
    {
     "name": "stdout",
     "output_type": "stream",
     "text": [
      "[1]\n"
     ]
    }
   ],
   "source": [
    "import numpy as np\n",
    "import pandas as pd\n",
    "from collections import Counter\n",
    "#Define Ecluidean distance globally\n",
    "def Euclideans_distance(f1,f2):\n",
    "        return np.sqrt(np.sum((f1-f2)**2))\n",
    "class Knn:\n",
    "    def __init__(self,k=3):\n",
    "        self.k=k\n",
    "    def fit(self,X,y):\n",
    "        self.X_train=X\n",
    "        self.y_train=y\n",
    "    \n",
    "        \n",
    "    def predict(self,X):\n",
    "        predicted_labels=[self._predict(x) for x in X]\n",
    "        print(np.array(predicted_labels))\n",
    "        return np.array(predicted_labels)\n",
    "    def _predict(self,x):\n",
    "        #compute distances\n",
    "        distances=[Euclideans_distance(x,x_train) for x_train in self.X_train]\n",
    "        \n",
    "        #get k nearest samples\n",
    "        kdis=np.argsort(distances)[:self.k]\n",
    "        \n",
    "        #get the labels\n",
    "        knlabels=[self.y_train[a] for a in kdis]\n",
    "        #majority vote\n",
    "        most_common=Counter( knlabels).most_common(1)\n",
    "    \n",
    "        return most_common[0][0]\n",
    "train_d=[[3,0],[4,0],[2,1],[5,1],[6,1]]\n",
    "test_d=[7]\n",
    "train_d=np.array(train_d)\n",
    "x=train_d[:,0]\n",
    "y=train_d[:,1]\n",
    "y=np.array(y)\n",
    "X_train=np.array(x)\n",
    "y_train=np.array(y)\n",
    "X_test=np.array(test_d)\n",
    "obj_knn=Knn(k=1)\n",
    "obj_knn.fit(X_train,y_train)\n",
    "predictions=obj_knn.predict(X_test)"
   ]
  },
  {
   "cell_type": "code",
   "execution_count": null,
   "metadata": {},
   "outputs": [],
   "source": []
  }
 ],
 "metadata": {
  "kernelspec": {
   "display_name": "Python 3",
   "language": "python",
   "name": "python3"
  },
  "language_info": {
   "codemirror_mode": {
    "name": "ipython",
    "version": 3
   },
   "file_extension": ".py",
   "mimetype": "text/x-python",
   "name": "python",
   "nbconvert_exporter": "python",
   "pygments_lexer": "ipython3",
   "version": "3.7.4"
  }
 },
 "nbformat": 4,
 "nbformat_minor": 2
}
